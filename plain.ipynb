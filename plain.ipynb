{
 "cells": [
  {
   "cell_type": "code",
   "execution_count": 1,
   "id": "9eb0d3c2",
   "metadata": {},
   "outputs": [],
   "source": [
    "from transformers import pipeline, AutoTokenizer\n",
    "\n",
    "model_dir = \"../mii/bloom-3b\"\n",
    "pipe = pipeline(\"text-generation\", model=model_dir, device=0)\n",
    "tokenizer = AutoTokenizer.from_pretrained(model_dir)"
   ]
  },
  {
   "cell_type": "markdown",
   "id": "fe4c81a5",
   "metadata": {},
   "source": [
    "## Greedy Search"
   ]
  },
  {
   "cell_type": "code",
   "execution_count": 2,
   "id": "5ea8e82e",
   "metadata": {},
   "outputs": [
    {
     "data": {
      "text/plain": [
       "13"
      ]
     },
     "execution_count": 2,
     "metadata": {},
     "output_type": "execute_result"
    }
   ],
   "source": [
    "start_text = \"Testing BLOOM-3B without DeepSpeed (greedy)\"\n",
    "tokens_start_text = len(tokenizer(start_text, return_tensors=\"pt\").input_ids[0])\n",
    "tokens_start_text"
   ]
  },
  {
   "cell_type": "code",
   "execution_count": 3,
   "id": "86bda02a",
   "metadata": {},
   "outputs": [],
   "source": [
    "import time\n",
    "\n",
    "new_tokens = 1000\n",
    "gen_length = new_tokens + tokens_start_text\n",
    "\n",
    "t0 = time.time()\n",
    "gen_text = pipe(start_text, min_length=gen_length, max_length=gen_length)[0]['generated_text']\n",
    "t1 = time.time()\n",
    "tokens_gen_text = len(tokenizer(gen_text, return_tensors=\"pt\").input_ids[0])"
   ]
  },
  {
   "cell_type": "code",
   "execution_count": 4,
   "id": "393cd78f",
   "metadata": {},
   "outputs": [
    {
     "name": "stdout",
     "output_type": "stream",
     "text": [
      "Tokens generated: 1000; Time: 33.1 seconds; Tokens per second: 30.2\n"
     ]
    }
   ],
   "source": [
    "total_new_tokens_generated = tokens_gen_text - tokens_start_text\n",
    "througput = (total_new_tokens_generated) / (t1 - t0)\n",
    "print(f\"Tokens generated: {total_new_tokens_generated}; Time: {t1 - t0:.1f} seconds; Tokens per second: {througput:.1f}\")"
   ]
  },
  {
   "cell_type": "markdown",
   "id": "a2adaf2f",
   "metadata": {},
   "source": [
    "## Sampling"
   ]
  },
  {
   "cell_type": "code",
   "execution_count": 5,
   "id": "1743934d",
   "metadata": {},
   "outputs": [
    {
     "data": {
      "text/plain": [
       "12"
      ]
     },
     "execution_count": 5,
     "metadata": {},
     "output_type": "execute_result"
    }
   ],
   "source": [
    "start_text = \"Testing BLOOM-3B without DeepSpeed (sampling)\"\n",
    "tokens_start_text = len(tokenizer(start_text, return_tensors=\"pt\").input_ids[0])\n",
    "tokens_start_text"
   ]
  },
  {
   "cell_type": "code",
   "execution_count": 6,
   "id": "d4c0d701",
   "metadata": {},
   "outputs": [],
   "source": [
    "new_tokens = 1000\n",
    "gen_length = new_tokens + tokens_start_text\n",
    "\n",
    "t0 = time.time()\n",
    "gen_text = pipe(start_text, min_length=gen_length, max_length=gen_length, do_sample=True, top_k=50)[0]['generated_text']\n",
    "t1 = time.time()\n",
    "tokens_gen_text = len(tokenizer(gen_text, return_tensors=\"pt\").input_ids[0])"
   ]
  },
  {
   "cell_type": "code",
   "execution_count": 7,
   "id": "19af9181",
   "metadata": {},
   "outputs": [
    {
     "name": "stdout",
     "output_type": "stream",
     "text": [
      "Tokens generated: 1000; Time: 34.4 seconds; Tokens per second: 29.1\n"
     ]
    }
   ],
   "source": [
    "total_new_tokens_generated = tokens_gen_text - tokens_start_text\n",
    "througput = (total_new_tokens_generated) / (t1 - t0)\n",
    "print(f\"Tokens generated: {total_new_tokens_generated}; Time: {t1 - t0:.1f} seconds; Tokens per second: {througput:.1f}\")"
   ]
  }
 ],
 "metadata": {
  "kernelspec": {
   "display_name": "conda_pytorch_p38",
   "language": "python",
   "name": "conda_pytorch_p38"
  },
  "language_info": {
   "codemirror_mode": {
    "name": "ipython",
    "version": 3
   },
   "file_extension": ".py",
   "mimetype": "text/x-python",
   "name": "python",
   "nbconvert_exporter": "python",
   "pygments_lexer": "ipython3",
   "version": "3.8.12"
  }
 },
 "nbformat": 4,
 "nbformat_minor": 5
}
