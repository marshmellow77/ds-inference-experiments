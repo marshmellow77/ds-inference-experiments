{
 "cells": [
  {
   "cell_type": "code",
   "execution_count": null,
   "id": "0c3261fe",
   "metadata": {
    "scrolled": true
   },
   "outputs": [],
   "source": [
    "# !pip install deepspeed-mii --upgrade"
   ]
  },
  {
   "cell_type": "code",
   "execution_count": null,
   "id": "db68f38b",
   "metadata": {},
   "outputs": [],
   "source": [
    "import nest_asyncio\n",
    "nest_asyncio.apply()"
   ]
  },
  {
   "cell_type": "code",
   "execution_count": 3,
   "id": "6880bb8d",
   "metadata": {},
   "outputs": [
    {
     "name": "stdout",
     "output_type": "stream",
     "text": [
      "[2022-11-12 15:29:41,315] [INFO] [deployment.py:85:deploy] ************* MII is using DeepSpeed Optimizations to accelerate your model *************\n",
      "[2022-11-12 15:29:41,346] [INFO] [server_client.py:217:_initialize_service] MII using multi-gpu deepspeed launcher:\n",
      " ------------------------------------------------------------\n",
      " task-name .................... text-generation \n",
      " model ........................ bigscience/bloom-3b \n",
      " model-path ................... ../models/bloom-3b \n",
      " port ......................... 50050 \n",
      " provider ..................... hugging-face \n",
      " ------------------------------------------------------------\n",
      "[2022-11-12 15:29:42,304] [WARNING] [runner.py:179:fetch_hostfile] Unable to find hostfile, will proceed with training with local resources only.\n",
      "[2022-11-12 15:29:42,308] [INFO] [runner.py:507:main] cmd = /home/ec2-user/anaconda3/envs/pytorch_p38/bin/python -u -m deepspeed.launcher.launch --world_info=eyJsb2NhbGhvc3QiOiBbMF19 --master_addr=127.0.0.1 --master_port=29500 --no_python --no_local_rank /home/ec2-user/anaconda3/envs/pytorch_p38/bin/python -m mii.launch.multi_gpu_server --task-name text-generation --model bigscience/bloom-3b --model-path ../models/bloom-3b --port 50050 --ds-optimize --provider hugging-face --config eyJ0ZW5zb3JfcGFyYWxsZWwiOiAxLCAicG9ydF9udW1iZXIiOiA1MDA1MCwgImR0eXBlIjogImZwMTYiLCAiZW5hYmxlX2N1ZGFfZ3JhcGgiOiBmYWxzZSwgImNoZWNrcG9pbnRfZGljdCI6IG51bGwsICJkZXBsb3lfcmFuayI6IFswXSwgInRvcmNoX2Rpc3RfcG9ydCI6IDI5NTAwLCAiaGZfYXV0aF90b2tlbiI6IG51bGwsICJyZXBsYWNlX3dpdGhfa2VybmVsX2luamVjdCI6IHRydWUsICJwcm9maWxlX21vZGVsX3RpbWUiOiBmYWxzZX0=\n",
      "[2022-11-12 15:29:43,265] [INFO] [launch.py:136:main] WORLD INFO DICT: {'localhost': [0]}\n",
      "[2022-11-12 15:29:43,265] [INFO] [launch.py:142:main] nnodes=1, num_local_procs=1, node_rank=0\n",
      "[2022-11-12 15:29:43,265] [INFO] [launch.py:155:main] global_rank_mapping=defaultdict(<class 'list'>, {'localhost': [0]})\n",
      "[2022-11-12 15:29:43,265] [INFO] [launch.py:156:main] dist_world_size=1\n",
      "[2022-11-12 15:29:43,265] [INFO] [launch.py:158:main] Setting CUDA_VISIBLE_DEVICES=0\n",
      "[2022-11-12 15:29:46,363] [INFO] [server_client.py:115:_wait_until_server_is_live] waiting for server to start...\n",
      "[2022-11-12 15:29:51,368] [INFO] [server_client.py:115:_wait_until_server_is_live] waiting for server to start...\n",
      "[2022-11-12 15:29:56,373] [INFO] [server_client.py:115:_wait_until_server_is_live] waiting for server to start...\n",
      "[2022-11-12 15:30:01,378] [INFO] [server_client.py:115:_wait_until_server_is_live] waiting for server to start...\n",
      "[2022-11-12 15:30:06,382] [INFO] [server_client.py:115:_wait_until_server_is_live] waiting for server to start...\n",
      "> --------- MII Settings: ds_optimize=True, replace_with_kernel_inject=True, enable_cuda_graph=False \n",
      "[2022-11-12 15:30:10,558] [INFO] [logging.py:68:log_dist] [Rank -1] DeepSpeed info: version=0.7.4, git-hash=unknown, git-branch=unknown\n",
      "[2022-11-12 15:30:10,558] [INFO] [logging.py:68:log_dist] [Rank -1] quantize_bits = 8 mlp_extra_grouping = False, quantize_groups = 1\n",
      "Using /home/ec2-user/.cache/torch_extensions/py38_cu111 as PyTorch extensions root...\n",
      "Detected CUDA files, patching ldflags\n",
      "Emitting ninja build file /home/ec2-user/.cache/torch_extensions/py38_cu111/transformer_inference/build.ninja...\n",
      "Building extension module transformer_inference...\n",
      "Allowing ninja to set a default number of workers... (overridable by setting the environment variable MAX_JOBS=N)\n",
      "[2022-11-12 15:30:11,392] [INFO] [server_client.py:115:_wait_until_server_is_live] waiting for server to start...\n",
      "ninja: no work to do.\n",
      "Loading extension module transformer_inference...\n",
      "Time to load transformer_inference op: 0.27378368377685547 seconds\n",
      "[2022-11-12 15:30:11,434] [INFO] [logging.py:68:log_dist] [Rank -1] DeepSpeed-Inference config: {'layer_id': 0, 'hidden_size': 2560, 'intermediate_size': 10240, 'heads': 32, 'num_hidden_layers': -1, 'fp16': True, 'pre_layer_norm': True, 'local_rank': -1, 'stochastic_mode': False, 'epsilon': 1e-05, 'mp_size': 1, 'q_int8': False, 'scale_attention': True, 'triangular_masking': True, 'local_attention': False, 'window_size': 1, 'rotary_dim': -1, 'rotate_half': False, 'rotate_every_two': True, 'return_tuple': True, 'mlp_after_attn': True, 'mlp_act_func_type': <ActivationFuncType.GELU: 1>, 'specialized_mode': False, 'training_mp_size': 1, 'bigscience_bloom': True}\n",
      "[2022-11-12 15:30:16,394] [INFO] [server_client.py:115:_wait_until_server_is_live] waiting for server to start...\n",
      "[2022-11-12 15:30:21,399] [INFO] [server_client.py:115:_wait_until_server_is_live] waiting for server to start...\n",
      "[2022-11-12 15:30:26,404] [INFO] [server_client.py:115:_wait_until_server_is_live] waiting for server to start...\n",
      "[2022-11-12 15:30:26,405] [INFO] [server_client.py:116:_wait_until_server_is_live] server has started on 50050\n"
     ]
    }
   ],
   "source": [
    "import mii\n",
    "model_dir = \"../models/bloom-3b\"\n",
    "mii_configs = {\"tensor_parallel\": 1, \"dtype\": \"fp16\"}\n",
    "mii.deploy(task=\"text-generation\",\n",
    "           model=\"bigscience/bloom-3b\",\n",
    "           model_path=model_dir,\n",
    "           deployment_name=\"bloom3b_deployment\",\n",
    "           mii_config=mii_configs)"
   ]
  },
  {
   "cell_type": "code",
   "execution_count": 4,
   "id": "a5633561",
   "metadata": {},
   "outputs": [],
   "source": [
    "generator = mii.mii_query_handle(\"bloom3b_deployment\")"
   ]
  },
  {
   "cell_type": "code",
   "execution_count": 5,
   "id": "4d12fc1e",
   "metadata": {},
   "outputs": [],
   "source": [
    "from transformers import AutoTokenizer\n",
    "tokenizer = AutoTokenizer.from_pretrained(model_dir)"
   ]
  },
  {
   "cell_type": "markdown",
   "id": "733bb67d",
   "metadata": {},
   "source": [
    "## Greedy Search"
   ]
  },
  {
   "cell_type": "code",
   "execution_count": 6,
   "id": "564daf3a",
   "metadata": {},
   "outputs": [
    {
     "data": {
      "text/plain": [
       "15"
      ]
     },
     "execution_count": 6,
     "metadata": {},
     "output_type": "execute_result"
    }
   ],
   "source": [
    "start_text = \"Testing BLOOM-3B with DeepSpeed MII (greedy)\"\n",
    "tokens_start_text = len(tokenizer(start_text, return_tensors=\"pt\").input_ids[0])\n",
    "tokens_start_text"
   ]
  },
  {
   "cell_type": "code",
   "execution_count": 7,
   "id": "8ff6556c",
   "metadata": {},
   "outputs": [
    {
     "name": "stdout",
     "output_type": "stream",
     "text": [
      "Free memory : 8864727040 (Bytes)  Total memory: 23836033024 (Bytes)  Setting maximum total tokens (input + output) to 2843 \n"
     ]
    }
   ],
   "source": [
    "import time\n",
    "\n",
    "new_tokens = 1000\n",
    "gen_length = new_tokens + tokens_start_text\n",
    "t0 = time.time()\n",
    "result = generator.query({\"query\": start_text}, min_length=gen_length, max_length=gen_length)\n",
    "t1 = time.time()"
   ]
  },
  {
   "cell_type": "code",
   "execution_count": 8,
   "id": "678ed10d",
   "metadata": {},
   "outputs": [],
   "source": [
    "import re\n",
    "\n",
    "text=str(result)\n",
    "pattern='(\")(.*)(\")'\n",
    "\n",
    "g=re.search(pattern,text)\n",
    "gen_text = g.group(2)\n",
    "tokens_gen_text = len(tokenizer(gen_text, return_tensors=\"pt\").input_ids[0])"
   ]
  },
  {
   "cell_type": "code",
   "execution_count": 9,
   "id": "57f29228",
   "metadata": {},
   "outputs": [
    {
     "name": "stdout",
     "output_type": "stream",
     "text": [
      "Tokens generated: 913; Time: 16.2 seconds; Tokens per second: 56.5; Latency: 18 ms\n"
     ]
    }
   ],
   "source": [
    "total_new_tokens_generated = tokens_gen_text - tokens_start_text\n",
    "throughput = (total_new_tokens_generated) / (t1 - t0)\n",
    "print(f\"Tokens generated: {total_new_tokens_generated}; Time: {t1 - t0:.1f} seconds; Tokens per second: {throughput:.1f}; Latency: {1000 / throughput:.0f} ms\")"
   ]
  },
  {
   "cell_type": "markdown",
   "id": "0f53ce2e",
   "metadata": {},
   "source": [
    "## Sampling"
   ]
  },
  {
   "cell_type": "code",
   "execution_count": 10,
   "id": "bd191482",
   "metadata": {},
   "outputs": [
    {
     "data": {
      "text/plain": [
       "15"
      ]
     },
     "execution_count": 10,
     "metadata": {},
     "output_type": "execute_result"
    }
   ],
   "source": [
    "start_text = \"Testing BLOOM-3B with DeepSpeed MII (sampling)\"\n",
    "tokens_start_text = len(tokenizer(start_text, return_tensors=\"pt\").input_ids[0])\n",
    "tokens_start_text"
   ]
  },
  {
   "cell_type": "code",
   "execution_count": 11,
   "id": "3f9ed1ee",
   "metadata": {},
   "outputs": [],
   "source": [
    "import time\n",
    "\n",
    "new_tokens = 1000\n",
    "gen_length = new_tokens + tokens_start_text\n",
    "t0 = time.time()\n",
    "result = generator.query({\"query\": start_text}, min_length=gen_length, max_length=gen_length, do_sample=True, top_k=50)\n",
    "t1 = time.time()"
   ]
  },
  {
   "cell_type": "code",
   "execution_count": 12,
   "id": "0178c243",
   "metadata": {},
   "outputs": [],
   "source": [
    "import re\n",
    "\n",
    "text=str(result)\n",
    "pattern='(\")(.*)(\")'\n",
    "\n",
    "g=re.search(pattern,text)\n",
    "gen_text = g.group(2)\n",
    "tokens_gen_text = len(tokenizer(gen_text, return_tensors=\"pt\").input_ids[0])"
   ]
  },
  {
   "cell_type": "code",
   "execution_count": 13,
   "id": "efd4985d",
   "metadata": {},
   "outputs": [
    {
     "name": "stdout",
     "output_type": "stream",
     "text": [
      "Tokens generated: 1015; Time: 17.2 seconds; Tokens per second: 59.1; Latency: 17 ms\n"
     ]
    }
   ],
   "source": [
    "total_new_tokens_generated = tokens_gen_text - tokens_start_text\n",
    "throughput = (total_new_tokens_generated) / (t1 - t0)\n",
    "print(f\"Tokens generated: {total_new_tokens_generated}; Time: {t1 - t0:.1f} seconds; Tokens per second: {throughput:.1f}; Latency: {1000 / throughput:.0f} ms\")"
   ]
  },
  {
   "cell_type": "markdown",
   "id": "9feb79f8",
   "metadata": {},
   "source": [
    "## Cleanup"
   ]
  },
  {
   "cell_type": "code",
   "execution_count": 14,
   "id": "27d757c0",
   "metadata": {},
   "outputs": [
    {
     "name": "stdout",
     "output_type": "stream",
     "text": [
      "[2022-11-12 15:31:00,281] [INFO] [terminate.py:8:terminate] Terminating server for bloom3b_deployment\n",
      "[2022-11-12 15:31:01,356] [INFO] [launch.py:286:sigkill_handler] Killing subprocess 15182\n",
      "[2022-11-12 15:31:01,356] [ERROR] [launch.py:292:sigkill_handler] ['/home/ec2-user/anaconda3/envs/pytorch_p38/bin/python', '-m', 'mii.launch.multi_gpu_server', '--task-name', 'text-generation', '--model', 'bigscience/bloom-3b', '--model-path', '../models/bloom-3b', '--port', '50050', '--ds-optimize', '--provider', 'hugging-face', '--config', 'eyJ0ZW5zb3JfcGFyYWxsZWwiOiAxLCAicG9ydF9udW1iZXIiOiA1MDA1MCwgImR0eXBlIjogImZwMTYiLCAiZW5hYmxlX2N1ZGFfZ3JhcGgiOiBmYWxzZSwgImNoZWNrcG9pbnRfZGljdCI6IG51bGwsICJkZXBsb3lfcmFuayI6IFswXSwgInRvcmNoX2Rpc3RfcG9ydCI6IDI5NTAwLCAiaGZfYXV0aF90b2tlbiI6IG51bGwsICJyZXBsYWNlX3dpdGhfa2VybmVsX2luamVjdCI6IHRydWUsICJwcm9maWxlX21vZGVsX3RpbWUiOiBmYWxzZX0='] exits with return code = -15\n"
     ]
    }
   ],
   "source": [
    "mii.terminate(\"bloom3b_deployment\")"
   ]
  }
 ],
 "metadata": {
  "kernelspec": {
   "display_name": "conda_pytorch_p38",
   "language": "python",
   "name": "conda_pytorch_p38"
  },
  "language_info": {
   "codemirror_mode": {
    "name": "ipython",
    "version": 3
   },
   "file_extension": ".py",
   "mimetype": "text/x-python",
   "name": "python",
   "nbconvert_exporter": "python",
   "pygments_lexer": "ipython3",
   "version": "3.8.12"
  }
 },
 "nbformat": 4,
 "nbformat_minor": 5
}
