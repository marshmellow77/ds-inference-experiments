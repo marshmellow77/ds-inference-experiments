{
 "cells": [
  {
   "cell_type": "code",
   "execution_count": 5,
   "id": "cd7e15d6",
   "metadata": {
    "scrolled": true
   },
   "outputs": [],
   "source": [
    "# !pip install transformers --upgrade"
   ]
  },
  {
   "cell_type": "code",
   "execution_count": 6,
   "id": "1012186f",
   "metadata": {},
   "outputs": [],
   "source": [
    "model_dir = \"../models/bloom-3b\""
   ]
  },
  {
   "cell_type": "code",
   "execution_count": 7,
   "id": "94ffc06a",
   "metadata": {},
   "outputs": [],
   "source": [
    "import torch"
   ]
  },
  {
   "cell_type": "code",
   "execution_count": 8,
   "id": "0ff53b2f",
   "metadata": {},
   "outputs": [],
   "source": [
    "from transformers import BloomForCausalLM\n",
    "model = BloomForCausalLM.from_pretrained(model_dir, torch_dtype=torch.float16)"
   ]
  },
  {
   "cell_type": "code",
   "execution_count": 10,
   "id": "9fed5afa",
   "metadata": {},
   "outputs": [],
   "source": [
    "from transformers import pipeline, AutoTokenizer\n",
    "\n",
    "tokenizer = AutoTokenizer.from_pretrained(model_dir)\n",
    "pipe = pipeline(\"text-generation\", model=model, tokenizer=tokenizer, device=0)"
   ]
  },
  {
   "cell_type": "markdown",
   "id": "bb07854e",
   "metadata": {},
   "source": [
    "## Greedy Search"
   ]
  },
  {
   "cell_type": "code",
   "execution_count": 11,
   "id": "c794ce54",
   "metadata": {},
   "outputs": [
    {
     "data": {
      "text/plain": [
       "13"
      ]
     },
     "execution_count": 11,
     "metadata": {},
     "output_type": "execute_result"
    }
   ],
   "source": [
    "start_text = \"Testing BLOOM-3B without DeepSpeed (greedy)\"\n",
    "tokens_start_text = len(tokenizer(start_text, return_tensors=\"pt\").input_ids[0])\n",
    "tokens_start_text"
   ]
  },
  {
   "cell_type": "code",
   "execution_count": 12,
   "id": "d74bf78b",
   "metadata": {},
   "outputs": [],
   "source": [
    "import time\n",
    "\n",
    "new_tokens = 1000\n",
    "gen_length = new_tokens + tokens_start_text\n",
    "\n",
    "t0 = time.time()\n",
    "gen_text = pipe(start_text, min_length=gen_length, max_length=gen_length)[0]['generated_text']\n",
    "t1 = time.time()\n",
    "tokens_gen_text = len(tokenizer(gen_text, return_tensors=\"pt\").input_ids[0])"
   ]
  },
  {
   "cell_type": "code",
   "execution_count": 13,
   "id": "e475d1e6",
   "metadata": {},
   "outputs": [
    {
     "name": "stdout",
     "output_type": "stream",
     "text": [
      "Tokens generated: 1000; Time: 20.4 seconds; Tokens per second: 49.1; Latency: 20 ms\n"
     ]
    }
   ],
   "source": [
    "total_new_tokens_generated = tokens_gen_text - tokens_start_text\n",
    "throughput = (total_new_tokens_generated) / (t1 - t0)\n",
    "print(f\"Tokens generated: {total_new_tokens_generated}; Time: {t1 - t0:.1f} seconds; Tokens per second: {throughput:.1f}; Latency: {1000 / throughput:.0f} ms\")"
   ]
  },
  {
   "cell_type": "markdown",
   "id": "cda8c918",
   "metadata": {},
   "source": [
    "## Sampling"
   ]
  },
  {
   "cell_type": "code",
   "execution_count": 14,
   "id": "0f0261e3",
   "metadata": {},
   "outputs": [
    {
     "data": {
      "text/plain": [
       "13"
      ]
     },
     "execution_count": 14,
     "metadata": {},
     "output_type": "execute_result"
    }
   ],
   "source": [
    "start_text = \"Testing BLOOM-3B without DeepSpeed (sampling)\"\n",
    "tokens_start_text = len(tokenizer(start_text, return_tensors=\"pt\").input_ids[0])\n",
    "tokens_start_text"
   ]
  },
  {
   "cell_type": "code",
   "execution_count": 15,
   "id": "c99d6a36",
   "metadata": {},
   "outputs": [],
   "source": [
    "new_tokens = 1000\n",
    "gen_length = new_tokens + tokens_start_text\n",
    "\n",
    "t0 = time.time()\n",
    "gen_text = pipe(start_text, min_length=gen_length, max_length=gen_length, do_sample=True, top_k=50)[0]['generated_text']\n",
    "t1 = time.time()\n",
    "tokens_gen_text = len(tokenizer(gen_text, return_tensors=\"pt\").input_ids[0])"
   ]
  },
  {
   "cell_type": "code",
   "execution_count": 16,
   "id": "7ce9f265",
   "metadata": {},
   "outputs": [
    {
     "name": "stdout",
     "output_type": "stream",
     "text": [
      "Tokens generated: 1000; Time: 21.4 seconds; Tokens per second: 46.7; Latency: 21 ms\n"
     ]
    }
   ],
   "source": [
    "total_new_tokens_generated = tokens_gen_text - tokens_start_text\n",
    "throughput = (total_new_tokens_generated) / (t1 - t0)\n",
    "print(f\"Tokens generated: {total_new_tokens_generated}; Time: {t1 - t0:.1f} seconds; Tokens per second: {throughput:.1f}; Latency: {1000 / throughput:.0f} ms\")"
   ]
  }
 ],
 "metadata": {
  "kernelspec": {
   "display_name": "conda_pytorch_p38",
   "language": "python",
   "name": "conda_pytorch_p38"
  },
  "language_info": {
   "codemirror_mode": {
    "name": "ipython",
    "version": 3
   },
   "file_extension": ".py",
   "mimetype": "text/x-python",
   "name": "python",
   "nbconvert_exporter": "python",
   "pygments_lexer": "ipython3",
   "version": "3.8.12"
  }
 },
 "nbformat": 4,
 "nbformat_minor": 5
}
