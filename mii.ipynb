{
 "cells": [
  {
   "cell_type": "code",
   "execution_count": 1,
   "id": "31a06ecb",
   "metadata": {},
   "outputs": [],
   "source": [
    "# !pip install deepspeed-mii"
   ]
  },
  {
   "cell_type": "code",
   "execution_count": 2,
   "id": "027c917c",
   "metadata": {},
   "outputs": [],
   "source": [
    "import nest_asyncio\n",
    "nest_asyncio.apply()"
   ]
  },
  {
   "cell_type": "code",
   "execution_count": null,
   "id": "f1bc33f6",
   "metadata": {
    "scrolled": true
   },
   "outputs": [
    {
     "name": "stdout",
     "output_type": "stream",
     "text": [
      "[2022-11-12 11:53:36,414] [INFO] [deployment.py:85:deploy] ************* MII is using DeepSpeed Optimizations to accelerate your model *************\n",
      "[2022-11-12 11:53:36,441] [INFO] [server_client.py:217:_initialize_service] MII using multi-gpu deepspeed launcher:\n",
      " ------------------------------------------------------------\n",
      " task-name .................... text-generation \n",
      " model ........................ bigscience/bloom-3b \n",
      " model-path ................... ../mii/bloom-3b \n",
      " port ......................... 50050 \n",
      " provider ..................... hugging-face \n",
      " ------------------------------------------------------------\n",
      "[2022-11-12 11:53:37,399] [WARNING] [runner.py:179:fetch_hostfile] Unable to find hostfile, will proceed with training with local resources only.\n",
      "[2022-11-12 11:53:37,404] [INFO] [runner.py:507:main] cmd = /home/ec2-user/anaconda3/envs/pytorch_p38/bin/python -u -m deepspeed.launcher.launch --world_info=eyJsb2NhbGhvc3QiOiBbMF19 --master_addr=127.0.0.1 --master_port=29500 --no_python --no_local_rank /home/ec2-user/anaconda3/envs/pytorch_p38/bin/python -m mii.launch.multi_gpu_server --task-name text-generation --model bigscience/bloom-3b --model-path ../mii/bloom-3b --port 50050 --ds-optimize --provider hugging-face --config eyJ0ZW5zb3JfcGFyYWxsZWwiOiAxLCAicG9ydF9udW1iZXIiOiA1MDA1MCwgImR0eXBlIjogImZwMTYiLCAiZW5hYmxlX2N1ZGFfZ3JhcGgiOiBmYWxzZSwgImNoZWNrcG9pbnRfZGljdCI6IG51bGwsICJkZXBsb3lfcmFuayI6IFswXSwgInRvcmNoX2Rpc3RfcG9ydCI6IDI5NTAwLCAiaGZfYXV0aF90b2tlbiI6IG51bGwsICJyZXBsYWNlX3dpdGhfa2VybmVsX2luamVjdCI6IHRydWUsICJwcm9maWxlX21vZGVsX3RpbWUiOiBmYWxzZX0=\n",
      "[2022-11-12 11:53:38,351] [INFO] [launch.py:136:main] WORLD INFO DICT: {'localhost': [0]}\n",
      "[2022-11-12 11:53:38,351] [INFO] [launch.py:142:main] nnodes=1, num_local_procs=1, node_rank=0\n",
      "[2022-11-12 11:53:38,351] [INFO] [launch.py:155:main] global_rank_mapping=defaultdict(<class 'list'>, {'localhost': [0]})\n",
      "[2022-11-12 11:53:38,351] [INFO] [launch.py:156:main] dist_world_size=1\n",
      "[2022-11-12 11:53:38,351] [INFO] [launch.py:158:main] Setting CUDA_VISIBLE_DEVICES=0\n",
      "[2022-11-12 11:53:41,458] [INFO] [server_client.py:115:_wait_until_server_is_live] waiting for server to start...\n",
      "[2022-11-12 11:53:46,463] [INFO] [server_client.py:115:_wait_until_server_is_live] waiting for server to start...\n",
      "[2022-11-12 11:53:51,468] [INFO] [server_client.py:115:_wait_until_server_is_live] waiting for server to start...\n",
      "[2022-11-12 11:53:56,473] [INFO] [server_client.py:115:_wait_until_server_is_live] waiting for server to start...\n",
      "[2022-11-12 11:54:01,478] [INFO] [server_client.py:115:_wait_until_server_is_live] waiting for server to start...\n"
     ]
    }
   ],
   "source": [
    "import mii\n",
    "model_dir = \"../mii/bloom-3b\"\n",
    "mii_configs = {\"tensor_parallel\": 1, \"dtype\": \"fp16\"}\n",
    "mii.deploy(task=\"text-generation\",\n",
    "           model=\"bigscience/bloom-3b\",\n",
    "           model_path=model_dir,\n",
    "           deployment_name=\"bloom3b_deployment\",\n",
    "           mii_config=mii_configs)"
   ]
  },
  {
   "cell_type": "code",
   "execution_count": null,
   "id": "205a2266",
   "metadata": {},
   "outputs": [],
   "source": [
    "generator = mii.mii_query_handle(\"bloom3b_deployment\")"
   ]
  },
  {
   "cell_type": "code",
   "execution_count": null,
   "id": "0da49809",
   "metadata": {},
   "outputs": [],
   "source": [
    "from transformers import AutoTokenizer\n",
    "tokenizer = AutoTokenizer.from_pretrained(model_dir)"
   ]
  },
  {
   "cell_type": "markdown",
   "id": "168457c6",
   "metadata": {},
   "source": [
    "## Greedy Search"
   ]
  },
  {
   "cell_type": "code",
   "execution_count": null,
   "id": "be4cafcc",
   "metadata": {},
   "outputs": [],
   "source": [
    "start_text = \"Testing BLOOM-3B with DeepSpeed MII (greedy)\"\n",
    "tokens_start_text = len(tokenizer(start_text, return_tensors=\"pt\").input_ids[0])\n",
    "tokens_start_text"
   ]
  },
  {
   "cell_type": "code",
   "execution_count": null,
   "id": "74f0f3f2",
   "metadata": {},
   "outputs": [],
   "source": [
    "import time\n",
    "\n",
    "new_tokens = 1000\n",
    "gen_length = new_tokens + tokens_start_text\n",
    "t0 = time.time()\n",
    "result = generator.query({\"query\": start_text}, min_length=gen_length, max_length=gen_length)\n",
    "t1 = time.time()"
   ]
  },
  {
   "cell_type": "code",
   "execution_count": null,
   "id": "d54e82f5",
   "metadata": {},
   "outputs": [],
   "source": [
    "import re\n",
    "\n",
    "text=str(result)\n",
    "pattern='(\")(.*)(\")'\n",
    "\n",
    "g=re.search(pattern,text)\n",
    "gen_text = g.group(2)\n",
    "tokens_gen_text = len(tokenizer(gen_text, return_tensors=\"pt\").input_ids[0])"
   ]
  },
  {
   "cell_type": "code",
   "execution_count": null,
   "id": "f17aa62c",
   "metadata": {},
   "outputs": [],
   "source": [
    "total_new_tokens_generated = tokens_gen_text - tokens_start_text\n",
    "througput = (total_new_tokens_generated) / (t1 - t0)\n",
    "print(f\"Tokens generated: {total_new_tokens_generated}; Time: {t1 - t0:.1f} seconds; Tokens per second: {througput:.1f}\")"
   ]
  },
  {
   "cell_type": "markdown",
   "id": "fe7c0e4d",
   "metadata": {},
   "source": [
    "## Sampling"
   ]
  },
  {
   "cell_type": "code",
   "execution_count": null,
   "id": "44f2dd7f",
   "metadata": {},
   "outputs": [],
   "source": [
    "start_text = \"Testing BLOOM-3B with DeepSpeed MII (sampling)\"\n",
    "tokens_start_text = len(tokenizer(start_text, return_tensors=\"pt\").input_ids[0])\n",
    "tokens_start_text"
   ]
  },
  {
   "cell_type": "code",
   "execution_count": null,
   "id": "9fa58197",
   "metadata": {},
   "outputs": [],
   "source": [
    "import time\n",
    "\n",
    "new_tokens = 1000\n",
    "gen_length = new_tokens + tokens_start_text\n",
    "t0 = time.time()\n",
    "result = generator.query({\"query\": start_text}, min_length=gen_length, max_length=gen_length, do_sample=True, top_k=50)\n",
    "t1 = time.time()"
   ]
  },
  {
   "cell_type": "code",
   "execution_count": null,
   "id": "95fcf753",
   "metadata": {},
   "outputs": [],
   "source": [
    "import re\n",
    "\n",
    "text=str(result)\n",
    "pattern='(\")(.*)(\")'\n",
    "\n",
    "g=re.search(pattern,text)\n",
    "gen_text = g.group(2)\n",
    "tokens_gen_text = len(tokenizer(gen_text, return_tensors=\"pt\").input_ids[0])"
   ]
  },
  {
   "cell_type": "code",
   "execution_count": null,
   "id": "cf61553e",
   "metadata": {},
   "outputs": [],
   "source": [
    "total_new_tokens_generated = tokens_gen_text - tokens_start_text\n",
    "througput = (total_new_tokens_generated) / (t1 - t0)\n",
    "print(f\"Tokens generated: {total_new_tokens_generated}; Time: {t1 - t0:.1f} seconds; Tokens per second: {througput:.1f}\")"
   ]
  },
  {
   "cell_type": "markdown",
   "id": "a0e964a5",
   "metadata": {},
   "source": [
    "## Cleanup"
   ]
  },
  {
   "cell_type": "code",
   "execution_count": null,
   "id": "4799e051",
   "metadata": {},
   "outputs": [],
   "source": [
    "mii.terminate(\"bloom3b_deployment\")"
   ]
  }
 ],
 "metadata": {
  "kernelspec": {
   "display_name": "conda_pytorch_p38",
   "language": "python",
   "name": "conda_pytorch_p38"
  },
  "language_info": {
   "codemirror_mode": {
    "name": "ipython",
    "version": 3
   },
   "file_extension": ".py",
   "mimetype": "text/x-python",
   "name": "python",
   "nbconvert_exporter": "python",
   "pygments_lexer": "ipython3",
   "version": "3.8.12"
  }
 },
 "nbformat": 4,
 "nbformat_minor": 5
}
